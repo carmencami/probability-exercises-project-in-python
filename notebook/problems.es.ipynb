{
 "cells": [
  {
   "cell_type": "markdown",
   "id": "a41f3622",
   "metadata": {},
   "source": [
    "# Ejercicios de probabilidad"
   ]
  },
  {
   "cell_type": "markdown",
   "id": "a6bdbd89",
   "metadata": {},
   "source": [
    "## Ejercicio 1 \n",
    "\n",
    "Dos dados se lanzan una vez y se observa el total obtenido. Usa una simulación para encontrar la probabilidad estimada de que la puntuación sea mayor a 7 o un número par. Una simulación es una repetición del mismo experimento multiples veces para observar su comportamiento:\n",
    "\n",
    "- Ejecuta el experimento 1000 veces (lanza 2 dados 1000 veces, y suma el número de ambos dados).\n",
    "- Lleva ua cuenta de los números y las veces que la suma fue mayor a 7 o un número par.\n",
    "- Divide el número del paso 2 entre el número de iteraciones(1000)."
   ]
  },
  {
   "cell_type": "code",
   "execution_count": 1,
   "id": "8939d892",
   "metadata": {},
   "outputs": [
    {
     "name": "stdout",
     "output_type": "stream",
     "text": [
      "La probabilidad para este experimento es de 68.00%\n"
     ]
    }
   ],
   "source": [
    "import numpy as np\n",
    "\n",
    "experimento1 = np.random.randint(1, 7, 1000)\n",
    "experimento2 = np.random.randint(1, 7, 1000)\n",
    "\n",
    "suma_experimentos = np.add(experimento1, experimento2)\n",
    "\n",
    "recuento = np.count_nonzero((suma_experimentos>7) | (suma_experimentos % 2 == 0))\n",
    "\n",
    "probabilidad_estimada = (recuento / 1000) * 100\n",
    "\n",
    "print (f'La probabilidad para este experimento es de {probabilidad_estimada:.2f}%')\n",
    "\n",
    "\n"
   ]
  },
  {
   "cell_type": "markdown",
   "id": "55732bca",
   "metadata": {},
   "source": [
    "## Ejercicio 2\n",
    "\n",
    "Una caja contiene 10 bolas blancas, 20 bolas rojas y 30 bolas verdes. Si tomamos 5 bolas de la caja reemplazándolas (tomando una bola, anotando el color y luego regresandola a la caja). Queremos saber la probabilidad de:\n",
    "\n",
    "1. Tomar 3 blancas y 2 rojas.\n",
    "2. Toas todas del mismo color.\n",
    "\n",
    "Ejecuta el experimento 1000 veces y calcula las probabilidades que mencionadas."
   ]
  },
  {
   "cell_type": "code",
   "execution_count": 3,
   "id": "23244d20",
   "metadata": {},
   "outputs": [
    {
     "name": "stdout",
     "output_type": "stream",
     "text": [
      "{0: 'white', 1: 'white', 2: 'white', 3: 'white', 4: 'white', 5: 'white', 6: 'white', 7: 'white', 8: 'white', 9: 'white', 10: 'green', 11: 'green', 12: 'green', 13: 'green', 14: 'green', 15: 'green', 16: 'green', 17: 'green', 18: 'green', 19: 'green', 20: 'green', 21: 'green', 22: 'green', 23: 'green', 24: 'green', 25: 'green', 26: 'green', 27: 'green', 28: 'green', 29: 'green', 30: 'green', 31: 'green', 32: 'green', 33: 'green', 34: 'green', 35: 'green', 36: 'green', 37: 'green', 38: 'green', 39: 'green', 40: 'green', 41: 'green', 42: 'green', 43: 'green', 44: 'green', 45: 'green', 46: 'green', 47: 'green', 48: 'green', 49: 'green', 50: 'green', 51: 'green', 52: 'green', 53: 'green', 54: 'green', 55: 'green', 56: 'green', 57: 'green', 58: 'green', 59: 'green'}\n",
      " La probabilidad de que salgan 3 bolas blancas y dos rojas es de 0.0%\n",
      " La probabilidad de que salgan todas iguales0.001%\n"
     ]
    }
   ],
   "source": [
    "Caja_bolas = {}\n",
    "\n",
    "#Creamos caja de bolas con sus respectivos colores \n",
    "for i in range(60):\n",
    "    if i < 10:\n",
    "        Caja_bolas[i] = \"white\"\n",
    "    elif (i < 9) and (i<30) :\n",
    "        Caja_bolas[i] = \"red\"\n",
    "    else:\n",
    "        Caja_bolas[i] = \"green\"\n",
    "print(Caja_bolas)\n",
    "\n",
    "#Convertimos los colores de la bola en un array de valores\n",
    "\n",
    "bolas = np.array(list(Caja_bolas.values()))\n",
    "\n",
    "#subimos la cantidad para obtener resultados más precisos \n",
    "numero_experimentos = 100000\n",
    "\n",
    "recuento_3_white_2_red = 0\n",
    "recuento_igual = 0\n",
    "\n",
    "for _ in range(numero_experimentos):\n",
    "    ejemplo = np.random.choice(bolas, size=5, replace=True)\n",
    "recuento_blancas = np.sum(ejemplo == \"white\")\n",
    "recuento_rojas = np.sum(ejemplo == \"red\")\n",
    "recuento_verde = np.sum( ejemplo == \"green\")\n",
    "\n",
    "if recuento_blancas == 3 and recuento_rojas == 2:\n",
    "    recuento_3_white_2_red  +=1\n",
    "if recuento_blancas == 5 or recuento_rojas == 5 or recuento_verde == 5:\n",
    "    recuento_igual +=1\n",
    "\n",
    "probabilidad_3_blanca_2_roja = (recuento_3_white_2_red / numero_experimentos) *100\n",
    "probabilidad_igual = (recuento_igual / numero_experimentos) * 100\n",
    "\n",
    "print (f' La probabilidad de que salgan 3 bolas blancas y dos rojas es de {probabilidad_3_blanca_2_roja}%')\n",
    "print (f' La probabilidad de que salgan todas iguales{probabilidad_igual}%')\n"
   ]
  }
 ],
 "metadata": {
  "kernelspec": {
   "display_name": "Python 3",
   "language": "python",
   "name": "python3"
  },
  "language_info": {
   "codemirror_mode": {
    "name": "ipython",
    "version": 3
   },
   "file_extension": ".py",
   "mimetype": "text/x-python",
   "name": "python",
   "nbconvert_exporter": "python",
   "pygments_lexer": "ipython3",
   "version": "3.11.4"
  }
 },
 "nbformat": 4,
 "nbformat_minor": 5
}
